{
  "nbformat": 4,
  "nbformat_minor": 0,
  "metadata": {
    "colab": {
      "name": "tf.Keras.ipynb",
      "provenance": [],
      "toc_visible": true
    },
    "kernelspec": {
      "name": "python3",
      "display_name": "Python 3"
    },
    "accelerator": "GPU"
  },
  "cells": [
    {
      "cell_type": "markdown",
      "metadata": {
        "id": "0TZ9gD2hRsSE"
      },
      "source": [
        "Data Prepration and Processing"
      ]
    },
    {
      "cell_type": "code",
      "metadata": {
        "id": "PmcAjj2pRnPd"
      },
      "source": [
        "import numpy as np\n",
        "from random import randint\n",
        "from sklearn.utils import shuffle\n",
        "from sklearn.preprocessing import MinMaxScaler"
      ],
      "execution_count": 2,
      "outputs": []
    },
    {
      "cell_type": "code",
      "metadata": {
        "id": "Dpxau5SVSGmv"
      },
      "source": [
        "train_labels = []\n",
        "train_samples = []"
      ],
      "execution_count": 3,
      "outputs": []
    },
    {
      "cell_type": "code",
      "metadata": {
        "id": "3Nyw7esqSPE1"
      },
      "source": [
        "for i in range(50):\n",
        "  # 5 % of the younger individual who did experienced the side effect\n",
        "  random_younger = randint(13,64)\n",
        "  train_samples.append(random_younger)\n",
        "  train_labels.append(1)\n",
        "\n",
        "  # 5% of the older individual who did not experienced the side effect\n",
        "  random_older = randint(65,99)\n",
        "  train_samples.append(random_older)\n",
        "  train_labels.append(0)\n",
        "\n",
        "for i in range(1000):\n",
        "  #95% of the younger individual who did not experience the side effect\n",
        "  random_younger = randint(13,64)\n",
        "  train_samples.append(random_younger)\n",
        "  train_labels.append(0)\n",
        "\n",
        "  #95% of the older individual who did experience the side effect\n",
        "  random_younger = randint(65,99)\n",
        "  train_samples.append(random_younger)\n",
        "  train_labels.append(1)"
      ],
      "execution_count": 4,
      "outputs": []
    },
    {
      "cell_type": "code",
      "metadata": {
        "id": "EcKyKmMuUj5Y"
      },
      "source": [
        "# for i in train_samples:\n",
        "#   print(i)"
      ],
      "execution_count": 5,
      "outputs": []
    },
    {
      "cell_type": "markdown",
      "metadata": {
        "id": "EElwPYvkVT34"
      },
      "source": [
        "converting the data to numpy array for feeding to the fit function"
      ]
    },
    {
      "cell_type": "code",
      "metadata": {
        "id": "429CbgrjUq4G"
      },
      "source": [
        "train_labels = np.array(train_labels)\n",
        "train_samples = np.array(train_samples)\n",
        "train_labels, train_samples = shuffle(train_labels,train_samples)"
      ],
      "execution_count": 6,
      "outputs": []
    },
    {
      "cell_type": "markdown",
      "metadata": {
        "id": "x9vltxZ1WB24"
      },
      "source": [
        "reshaping the data in range 0 to 1"
      ]
    },
    {
      "cell_type": "code",
      "metadata": {
        "id": "hJRlCTZ2V0nH"
      },
      "source": [
        "scaler = MinMaxScaler(feature_range=(0,1))\n",
        "scaled_train_samples = scaler.fit_transform(train_samples.reshape(-1,1))"
      ],
      "execution_count": 7,
      "outputs": []
    },
    {
      "cell_type": "code",
      "metadata": {
        "id": "lFLhVrN9WflV"
      },
      "source": [
        "# for i in scaled_train_samples:\n",
        "#   print(i)"
      ],
      "execution_count": 8,
      "outputs": []
    },
    {
      "cell_type": "markdown",
      "metadata": {
        "id": "AgP0en-lXO0O"
      },
      "source": [
        "# Creating First Simple tf.keras sequential model"
      ]
    },
    {
      "cell_type": "code",
      "metadata": {
        "id": "XDv_T-AAWkEU"
      },
      "source": [
        "import tensorflow as tf\n",
        "from tensorflow import keras\n",
        "from tensorflow.keras.models import Sequential\n",
        "from tensorflow.keras.layers import Dense, Activation\n",
        "from tensorflow.keras.optimizers import Adam\n",
        "from tensorflow.keras.metrics import categorical_crossentropy"
      ],
      "execution_count": 9,
      "outputs": []
    },
    {
      "cell_type": "code",
      "metadata": {
        "colab": {
          "base_uri": "https://localhost:8080/"
        },
        "id": "JDwDpyPRYDIw",
        "outputId": "1aa7d689-c0ee-4906-fb64-18faabf5c2bd"
      },
      "source": [
        "physical_devices = tf.config.experimental.list_physical_devices('GPU')\n",
        "print(\"Num Of GPUs Available :\", len(physical_devices))\n",
        "tf.config.experimental.set_memory_growth(physical_devices[0], True)"
      ],
      "execution_count": 10,
      "outputs": [
        {
          "output_type": "stream",
          "text": [
            "Num Of GPUs Available : 1\n"
          ],
          "name": "stdout"
        }
      ]
    },
    {
      "cell_type": "markdown",
      "metadata": {
        "id": "YYfTP93YZCay"
      },
      "source": [
        "#Model"
      ]
    },
    {
      "cell_type": "code",
      "metadata": {
        "id": "OljPca4mYvT2"
      },
      "source": [
        "model = Sequential([\n",
        "                    Dense(units=16, input_shape=(1, ), activation= 'relu'),\n",
        "                    Dense(units=32, activation='relu'),\n",
        "                    Dense(units=2, activation='softmax')\n",
        "])"
      ],
      "execution_count": 11,
      "outputs": []
    },
    {
      "cell_type": "code",
      "metadata": {
        "colab": {
          "base_uri": "https://localhost:8080/"
        },
        "id": "pfYk8Ea3bcuc",
        "outputId": "7afc3916-cbc6-4700-994c-fdaabf25e315"
      },
      "source": [
        "model.summary()"
      ],
      "execution_count": 12,
      "outputs": [
        {
          "output_type": "stream",
          "text": [
            "Model: \"sequential\"\n",
            "_________________________________________________________________\n",
            "Layer (type)                 Output Shape              Param #   \n",
            "=================================================================\n",
            "dense (Dense)                (None, 16)                32        \n",
            "_________________________________________________________________\n",
            "dense_1 (Dense)              (None, 32)                544       \n",
            "_________________________________________________________________\n",
            "dense_2 (Dense)              (None, 2)                 66        \n",
            "=================================================================\n",
            "Total params: 642\n",
            "Trainable params: 642\n",
            "Non-trainable params: 0\n",
            "_________________________________________________________________\n"
          ],
          "name": "stdout"
        }
      ]
    },
    {
      "cell_type": "markdown",
      "metadata": {
        "id": "L5f5DJOufslK"
      },
      "source": [
        "#Model Training"
      ]
    },
    {
      "cell_type": "markdown",
      "metadata": {
        "id": "gRIIpFNKgt1u"
      },
      "source": [
        "####Compiling the model before training"
      ]
    },
    {
      "cell_type": "code",
      "metadata": {
        "id": "mw-l6ygsbrkn"
      },
      "source": [
        "model.compile(optimizer=Adam(learning_rate=.0001), loss='sparse_categorical_crossentropy', metrics=['accuracy'])"
      ],
      "execution_count": 13,
      "outputs": []
    },
    {
      "cell_type": "markdown",
      "metadata": {
        "id": "Yalm3zdxgz39"
      },
      "source": [
        "####Training the model"
      ]
    },
    {
      "cell_type": "code",
      "metadata": {
        "colab": {
          "base_uri": "https://localhost:8080/"
        },
        "id": "2NOYYVaxgTwG",
        "outputId": "23bc8d5a-15dd-4b1d-b519-298789615a10"
      },
      "source": [
        "model.fit(x = scaled_train_samples, y = train_labels, batch_size=10, epochs=30, shuffle = True, verbose=2)"
      ],
      "execution_count": 14,
      "outputs": [
        {
          "output_type": "stream",
          "text": [
            "Epoch 1/30\n",
            "210/210 - 0s - loss: 0.6817 - accuracy: 0.5271\n",
            "Epoch 2/30\n",
            "210/210 - 0s - loss: 0.6379 - accuracy: 0.6971\n",
            "Epoch 3/30\n",
            "210/210 - 0s - loss: 0.5981 - accuracy: 0.7748\n",
            "Epoch 4/30\n",
            "210/210 - 0s - loss: 0.5580 - accuracy: 0.8290\n",
            "Epoch 5/30\n",
            "210/210 - 0s - loss: 0.5200 - accuracy: 0.8600\n",
            "Epoch 6/30\n",
            "210/210 - 0s - loss: 0.4835 - accuracy: 0.8748\n",
            "Epoch 7/30\n",
            "210/210 - 0s - loss: 0.4494 - accuracy: 0.8838\n",
            "Epoch 8/30\n",
            "210/210 - 0s - loss: 0.4185 - accuracy: 0.8943\n",
            "Epoch 9/30\n",
            "210/210 - 0s - loss: 0.3915 - accuracy: 0.8995\n",
            "Epoch 10/30\n",
            "210/210 - 0s - loss: 0.3690 - accuracy: 0.9038\n",
            "Epoch 11/30\n",
            "210/210 - 0s - loss: 0.3497 - accuracy: 0.9114\n",
            "Epoch 12/30\n",
            "210/210 - 0s - loss: 0.3342 - accuracy: 0.9138\n",
            "Epoch 13/30\n",
            "210/210 - 0s - loss: 0.3212 - accuracy: 0.9167\n",
            "Epoch 14/30\n",
            "210/210 - 0s - loss: 0.3106 - accuracy: 0.9143\n",
            "Epoch 15/30\n",
            "210/210 - 0s - loss: 0.3021 - accuracy: 0.9186\n",
            "Epoch 16/30\n",
            "210/210 - 0s - loss: 0.2950 - accuracy: 0.9195\n",
            "Epoch 17/30\n",
            "210/210 - 0s - loss: 0.2893 - accuracy: 0.9171\n",
            "Epoch 18/30\n",
            "210/210 - 0s - loss: 0.2847 - accuracy: 0.9229\n",
            "Epoch 19/30\n",
            "210/210 - 0s - loss: 0.2807 - accuracy: 0.9219\n",
            "Epoch 20/30\n",
            "210/210 - 0s - loss: 0.2774 - accuracy: 0.9271\n",
            "Epoch 21/30\n",
            "210/210 - 0s - loss: 0.2748 - accuracy: 0.9257\n",
            "Epoch 22/30\n",
            "210/210 - 0s - loss: 0.2723 - accuracy: 0.9262\n",
            "Epoch 23/30\n",
            "210/210 - 0s - loss: 0.2706 - accuracy: 0.9248\n",
            "Epoch 24/30\n",
            "210/210 - 0s - loss: 0.2688 - accuracy: 0.9276\n",
            "Epoch 25/30\n",
            "210/210 - 0s - loss: 0.2672 - accuracy: 0.9252\n",
            "Epoch 26/30\n",
            "210/210 - 0s - loss: 0.2659 - accuracy: 0.9338\n",
            "Epoch 27/30\n",
            "210/210 - 0s - loss: 0.2649 - accuracy: 0.9257\n",
            "Epoch 28/30\n",
            "210/210 - 0s - loss: 0.2638 - accuracy: 0.9276\n",
            "Epoch 29/30\n",
            "210/210 - 0s - loss: 0.2630 - accuracy: 0.9290\n",
            "Epoch 30/30\n",
            "210/210 - 0s - loss: 0.2618 - accuracy: 0.9338\n"
          ],
          "name": "stdout"
        },
        {
          "output_type": "execute_result",
          "data": {
            "text/plain": [
              "<tensorflow.python.keras.callbacks.History at 0x7f2560575fd0>"
            ]
          },
          "metadata": {
            "tags": []
          },
          "execution_count": 14
        }
      ]
    },
    {
      "cell_type": "markdown",
      "metadata": {
        "id": "lV9Ym0U3jirB"
      },
      "source": [
        "##Creating Validation data on a fly"
      ]
    },
    {
      "cell_type": "markdown",
      "metadata": {
        "id": "TH3UN0Z3kwl9"
      },
      "source": [
        "For creating the validation data on a fly we set the validation_split parameter of the fit function to the value between 0 and 1 to get our validation data."
      ]
    },
    {
      "cell_type": "code",
      "metadata": {
        "colab": {
          "base_uri": "https://localhost:8080/"
        },
        "id": "EoZTtgyZjmXc",
        "outputId": "fa400661-2c36-4c3b-d5e4-75d1947d973e"
      },
      "source": [
        "model.fit(x = scaled_train_samples, y = train_labels, batch_size=10, validation_split=.1, epochs=30, shuffle = True, verbose=2)"
      ],
      "execution_count": 15,
      "outputs": [
        {
          "output_type": "stream",
          "text": [
            "Epoch 1/30\n",
            "189/189 - 1s - loss: 0.2668 - accuracy: 0.9249 - val_loss: 0.2143 - val_accuracy: 0.9381\n",
            "Epoch 2/30\n",
            "189/189 - 0s - loss: 0.2659 - accuracy: 0.9265 - val_loss: 0.2136 - val_accuracy: 0.9381\n",
            "Epoch 3/30\n",
            "189/189 - 0s - loss: 0.2653 - accuracy: 0.9296 - val_loss: 0.2129 - val_accuracy: 0.9381\n",
            "Epoch 4/30\n",
            "189/189 - 0s - loss: 0.2650 - accuracy: 0.9265 - val_loss: 0.2124 - val_accuracy: 0.9476\n",
            "Epoch 5/30\n",
            "189/189 - 0s - loss: 0.2643 - accuracy: 0.9317 - val_loss: 0.2117 - val_accuracy: 0.9381\n",
            "Epoch 6/30\n",
            "189/189 - 0s - loss: 0.2639 - accuracy: 0.9275 - val_loss: 0.2112 - val_accuracy: 0.9476\n",
            "Epoch 7/30\n",
            "189/189 - 0s - loss: 0.2633 - accuracy: 0.9286 - val_loss: 0.2105 - val_accuracy: 0.9381\n",
            "Epoch 8/30\n",
            "189/189 - 0s - loss: 0.2628 - accuracy: 0.9275 - val_loss: 0.2101 - val_accuracy: 0.9381\n",
            "Epoch 9/30\n",
            "189/189 - 0s - loss: 0.2626 - accuracy: 0.9307 - val_loss: 0.2098 - val_accuracy: 0.9476\n",
            "Epoch 10/30\n",
            "189/189 - 0s - loss: 0.2622 - accuracy: 0.9312 - val_loss: 0.2091 - val_accuracy: 0.9476\n",
            "Epoch 11/30\n",
            "189/189 - 0s - loss: 0.2616 - accuracy: 0.9280 - val_loss: 0.2087 - val_accuracy: 0.9476\n",
            "Epoch 12/30\n",
            "189/189 - 0s - loss: 0.2615 - accuracy: 0.9302 - val_loss: 0.2081 - val_accuracy: 0.9476\n",
            "Epoch 13/30\n",
            "189/189 - 0s - loss: 0.2610 - accuracy: 0.9307 - val_loss: 0.2076 - val_accuracy: 0.9381\n",
            "Epoch 14/30\n",
            "189/189 - 0s - loss: 0.2605 - accuracy: 0.9317 - val_loss: 0.2071 - val_accuracy: 0.9381\n",
            "Epoch 15/30\n",
            "189/189 - 0s - loss: 0.2603 - accuracy: 0.9302 - val_loss: 0.2069 - val_accuracy: 0.9476\n",
            "Epoch 16/30\n",
            "189/189 - 0s - loss: 0.2598 - accuracy: 0.9333 - val_loss: 0.2062 - val_accuracy: 0.9381\n",
            "Epoch 17/30\n",
            "189/189 - 0s - loss: 0.2594 - accuracy: 0.9280 - val_loss: 0.2059 - val_accuracy: 0.9476\n",
            "Epoch 18/30\n",
            "189/189 - 0s - loss: 0.2590 - accuracy: 0.9307 - val_loss: 0.2057 - val_accuracy: 0.9476\n",
            "Epoch 19/30\n",
            "189/189 - 0s - loss: 0.2588 - accuracy: 0.9307 - val_loss: 0.2050 - val_accuracy: 0.9476\n",
            "Epoch 20/30\n",
            "189/189 - 0s - loss: 0.2586 - accuracy: 0.9312 - val_loss: 0.2044 - val_accuracy: 0.9476\n",
            "Epoch 21/30\n",
            "189/189 - 0s - loss: 0.2580 - accuracy: 0.9339 - val_loss: 0.2040 - val_accuracy: 0.9476\n",
            "Epoch 22/30\n",
            "189/189 - 0s - loss: 0.2576 - accuracy: 0.9286 - val_loss: 0.2036 - val_accuracy: 0.9476\n",
            "Epoch 23/30\n",
            "189/189 - 0s - loss: 0.2572 - accuracy: 0.9339 - val_loss: 0.2032 - val_accuracy: 0.9476\n",
            "Epoch 24/30\n",
            "189/189 - 0s - loss: 0.2569 - accuracy: 0.9333 - val_loss: 0.2028 - val_accuracy: 0.9381\n",
            "Epoch 25/30\n",
            "189/189 - 0s - loss: 0.2567 - accuracy: 0.9328 - val_loss: 0.2024 - val_accuracy: 0.9476\n",
            "Epoch 26/30\n",
            "189/189 - 0s - loss: 0.2564 - accuracy: 0.9323 - val_loss: 0.2022 - val_accuracy: 0.9476\n",
            "Epoch 27/30\n",
            "189/189 - 0s - loss: 0.2559 - accuracy: 0.9339 - val_loss: 0.2017 - val_accuracy: 0.9476\n",
            "Epoch 28/30\n",
            "189/189 - 0s - loss: 0.2556 - accuracy: 0.9333 - val_loss: 0.2014 - val_accuracy: 0.9476\n",
            "Epoch 29/30\n",
            "189/189 - 0s - loss: 0.2554 - accuracy: 0.9339 - val_loss: 0.2010 - val_accuracy: 0.9476\n",
            "Epoch 30/30\n",
            "189/189 - 0s - loss: 0.2548 - accuracy: 0.9339 - val_loss: 0.2006 - val_accuracy: 0.9476\n"
          ],
          "name": "stdout"
        },
        {
          "output_type": "execute_result",
          "data": {
            "text/plain": [
              "<tensorflow.python.keras.callbacks.History at 0x7f2560394c50>"
            ]
          },
          "metadata": {
            "tags": []
          },
          "execution_count": 15
        }
      ]
    },
    {
      "cell_type": "markdown",
      "metadata": {
        "id": "AlEWyr2FlwdE"
      },
      "source": [
        "##Neural Network for inference to predict on data from a test set using tensorflow api "
      ]
    },
    {
      "cell_type": "code",
      "metadata": {
        "id": "ij2LYQ3wlLpa"
      },
      "source": [
        "test_samples = []\n",
        "test_labels = []"
      ],
      "execution_count": 16,
      "outputs": []
    },
    {
      "cell_type": "code",
      "metadata": {
        "id": "wYp8FyHxmj6k"
      },
      "source": [
        "for i in range(10):\n",
        "  # 5 % of the younger individual who did experienced the side effect\n",
        "  random_younger = randint(13,64)\n",
        "  test_samples.append(random_younger)\n",
        "  test_labels.append(1)\n",
        "\n",
        "\n",
        "  # 5% of the older individual who did not experienced the side effect\n",
        "  random_older= randint(65,99)\n",
        "  test_samples.append(random_older)\n",
        "  test_labels.append(0)\n",
        "\n",
        "for i in range(200):\n",
        "  #95% of the younger individual who did not experienced the side effect\n",
        "  random_younger = randint(13,64)\n",
        "  test_samples.append(random_younger)\n",
        "  test_labels.append(0)\n",
        "\n",
        "  #95% of the older individual who did experienced the side effect\n",
        "  random_older= randint(65,99)\n",
        "  test_samples.append(random_older)\n",
        "  test_labels.append(1)"
      ],
      "execution_count": 17,
      "outputs": []
    },
    {
      "cell_type": "code",
      "metadata": {
        "id": "hONIk9EgoAt6"
      },
      "source": [
        "test_labels = np.array(test_labels)\n",
        "test_samples = np.array(test_samples)\n",
        "test_labels, test_samples = shuffle(test_labels, test_samples)"
      ],
      "execution_count": 18,
      "outputs": []
    },
    {
      "cell_type": "code",
      "metadata": {
        "id": "O94r45TZnb8r"
      },
      "source": [
        "scaled_test_samples = scaler.fit_transform(test_samples.reshape(-1,1))"
      ],
      "execution_count": 19,
      "outputs": []
    },
    {
      "cell_type": "markdown",
      "metadata": {
        "id": "-ZajelyQptmc"
      },
      "source": [
        "##Predict"
      ]
    },
    {
      "cell_type": "code",
      "metadata": {
        "id": "hcQp70oVnoHc"
      },
      "source": [
        "predictions = model.predict(x = scaled_test_samples, batch_size= 10, verbose=0)"
      ],
      "execution_count": 20,
      "outputs": []
    },
    {
      "cell_type": "code",
      "metadata": {
        "colab": {
          "base_uri": "https://localhost:8080/"
        },
        "id": "-g9w6n6Np8o8",
        "outputId": "5d12fb1a-8611-4e29-f5b0-9cde9540cf08"
      },
      "source": [
        "for i in predictions:\n",
        "  print(i)"
      ],
      "execution_count": 21,
      "outputs": [
        {
          "output_type": "stream",
          "text": [
            "[0.03831873 0.96168125]\n",
            "[0.12736848 0.8726315 ]\n",
            "[0.9695249  0.03047505]\n",
            "[0.08292253 0.91707754]\n",
            "[0.20056139 0.79943866]\n",
            "[0.04255451 0.9574455 ]\n",
            "[0.9840694  0.01593062]\n",
            "[0.0788616  0.92113835]\n",
            "[0.9695249  0.03047505]\n",
            "[0.03271575 0.9672842 ]\n",
            "[0.04483683 0.9551632 ]\n",
            "[0.0344894 0.9655106]\n",
            "[0.68649274 0.31350726]\n",
            "[0.10870176 0.8912983 ]\n",
            "[0.8645176  0.13548239]\n",
            "[0.64639413 0.35360593]\n",
            "[0.09378054 0.9062195 ]\n",
            "[0.98446757 0.01553236]\n",
            "[0.05518332 0.9448167 ]\n",
            "[0.38223928 0.6177608 ]\n",
            "[0.03831873 0.96168125]\n",
            "[0.9300706  0.06992938]\n",
            "[0.05810188 0.94189817]\n",
            "[0.0643781  0.93562186]\n",
            "[0.98435485 0.01564514]\n",
            "[0.9846907  0.01530921]\n",
            "[0.98389566 0.01610436]\n",
            "[0.9615881  0.03841185]\n",
            "[0.0344894 0.9655106]\n",
            "[0.06774804 0.93225193]\n",
            "[0.07498331 0.92501664]\n",
            "[0.0643781  0.93562186]\n",
            "[0.05518332 0.9448167 ]\n",
            "[0.04255451 0.9574455 ]\n",
            "[0.06774804 0.93225193]\n",
            "[0.07498331 0.92501664]\n",
            "[0.9844589  0.01554106]\n",
            "[0.91091657 0.08908345]\n",
            "[0.51539177 0.48460823]\n",
            "[0.08718084 0.91281915]\n",
            "[0.30129293 0.6987071 ]\n",
            "[0.9844589  0.01554106]\n",
            "[0.04723551 0.95276445]\n",
            "[0.23107655 0.76892346]\n",
            "[0.04483683 0.9551632 ]\n",
            "[0.03103038 0.9689696 ]\n",
            "[0.03103038 0.9689696 ]\n",
            "[0.98457956 0.01542039]\n",
            "[0.02790825 0.9720917 ]\n",
            "[0.98402447 0.01597549]\n",
            "[0.98251134 0.01748869]\n",
            "[0.0344894 0.9655106]\n",
            "[0.9835781  0.01642187]\n",
            "[0.60412425 0.39587578]\n",
            "[0.5602391  0.43976086]\n",
            "[0.9449243  0.05507571]\n",
            "[0.97767717 0.02232284]\n",
            "[0.10870176 0.8912983 ]\n",
            "[0.20056139 0.79943866]\n",
            "[0.72398597 0.276014  ]\n",
            "[0.05810188 0.94189817]\n",
            "[0.98389566 0.01610436]\n",
            "[0.9213234  0.07867665]\n",
            "[0.06774804 0.93225193]\n",
            "[0.9657778  0.03422221]\n",
            "[0.23107655 0.76892346]\n",
            "[0.98457956 0.01542039]\n",
            "[0.04255451 0.9574455 ]\n",
            "[0.68649274 0.31350726]\n",
            "[0.04255451 0.9574455 ]\n",
            "[0.9657778  0.03422221]\n",
            "[0.9567695  0.04323048]\n",
            "[0.98418415 0.01581581]\n",
            "[0.4702948  0.52970517]\n",
            "[0.98441136 0.01558866]\n",
            "[0.03831873 0.96168125]\n",
            "[0.98435485 0.01564514]\n",
            "[0.17316842 0.8268316 ]\n",
            "[0.17316842 0.8268316 ]\n",
            "[0.78947943 0.21052061]\n",
            "[0.72398597 0.276014  ]\n",
            "[0.02790825 0.9720917 ]\n",
            "[0.02942919 0.97057086]\n",
            "[0.9838373  0.01616267]\n",
            "[0.08718084 0.91281915]\n",
            "[0.30129293 0.6987071 ]\n",
            "[0.9793154  0.02068463]\n",
            "[0.9808357  0.01916427]\n",
            "[0.4702948  0.52970517]\n",
            "[0.9511866  0.04881335]\n",
            "[0.38223928 0.6177608 ]\n",
            "[0.04255451 0.9574455 ]\n",
            "[0.8824184  0.11758158]\n",
            "[0.9838373  0.01616267]\n",
            "[0.975863   0.02413701]\n",
            "[0.9842413  0.01575872]\n",
            "[0.9838373  0.01616267]\n",
            "[0.97767717 0.02232284]\n",
            "[0.02790825 0.9720917 ]\n",
            "[0.84239405 0.15760593]\n",
            "[0.04255451 0.9574455 ]\n",
            "[0.02942919 0.97057086]\n",
            "[0.9835781  0.01642187]\n",
            "[0.07128097 0.928719  ]\n",
            "[0.10870176 0.8912983 ]\n",
            "[0.9567695  0.04323048]\n",
            "[0.07498331 0.92501664]\n",
            "[0.9793154  0.02068463]\n",
            "[0.03103038 0.9689696 ]\n",
            "[0.98412687 0.01587312]\n",
            "[0.98418415 0.01581581]\n",
            "[0.9449243  0.05507571]\n",
            "[0.51539177 0.48460823]\n",
            "[0.06116477 0.9388352 ]\n",
            "[0.8174209  0.18257909]\n",
            "[0.04483683 0.9551632 ]\n",
            "[0.9300706  0.06992938]\n",
            "[0.17316842 0.8268316 ]\n",
            "[0.14882034 0.85117966]\n",
            "[0.03831873 0.96168125]\n",
            "[0.0643781  0.93562186]\n",
            "[0.06116477 0.9388352 ]\n",
            "[0.98402447 0.01597549]\n",
            "[0.84239405 0.15760593]\n",
            "[0.04483683 0.9551632 ]\n",
            "[0.07498331 0.92501664]\n",
            "[0.98401165 0.01598832]\n",
            "[0.64639413 0.35360593]\n",
            "[0.30129293 0.6987071 ]\n",
            "[0.9842981  0.01570183]\n",
            "[0.17316842 0.8268316 ]\n",
            "[0.04255451 0.9574455 ]\n",
            "[0.02790825 0.9720917 ]\n",
            "[0.98251134 0.01748869]\n",
            "[0.03271575 0.9672842 ]\n",
            "[0.08718084 0.91281915]\n",
            "[0.03831873 0.96168125]\n",
            "[0.9793154  0.02068463]\n",
            "[0.9840694  0.01593062]\n",
            "[0.9838373  0.01616267]\n",
            "[0.02646376 0.9735362 ]\n",
            "[0.17316842 0.8268316 ]\n",
            "[0.30129293 0.6987071 ]\n",
            "[0.08718084 0.91281915]\n",
            "[0.03635558 0.96364444]\n",
            "[0.51539177 0.48460823]\n",
            "[0.02942919 0.97057086]\n",
            "[0.04975584 0.9502441 ]\n",
            "[0.07128097 0.928719  ]\n",
            "[0.02790825 0.9720917 ]\n",
            "[0.12736848 0.8726315 ]\n",
            "[0.937911   0.06208906]\n",
            "[0.9840694  0.01593062]\n",
            "[0.91091657 0.08908345]\n",
            "[0.72398597 0.276014  ]\n",
            "[0.30129293 0.6987071 ]\n",
            "[0.20056139 0.79943866]\n",
            "[0.3406045 0.6593955]\n",
            "[0.98435485 0.01564514]\n",
            "[0.4702948  0.52970517]\n",
            "[0.06774804 0.93225193]\n",
            "[0.07498331 0.92501664]\n",
            "[0.17316842 0.8268316 ]\n",
            "[0.0344894 0.9655106]\n",
            "[0.9818216  0.01817843]\n",
            "[0.02646376 0.9735362 ]\n",
            "[0.98251134 0.01748869]\n",
            "[0.9213234  0.07867665]\n",
            "[0.3406045 0.6593955]\n",
            "[0.07128097 0.928719  ]\n",
            "[0.68649274 0.31350726]\n",
            "[0.98441136 0.01558866]\n",
            "[0.04483683 0.9551632 ]\n",
            "[0.0788616  0.92113835]\n",
            "[0.98441136 0.01558866]\n",
            "[0.51539177 0.48460823]\n",
            "[0.9808357  0.01916427]\n",
            "[0.9838373  0.01616267]\n",
            "[0.0788616  0.92113835]\n",
            "[0.5602391  0.43976086]\n",
            "[0.08292253 0.91707754]\n",
            "[0.78947943 0.21052061]\n",
            "[0.02942919 0.97057086]\n",
            "[0.4702948  0.52970517]\n",
            "[0.05240325 0.9475968 ]\n",
            "[0.03635558 0.96364444]\n",
            "[0.89768916 0.10231081]\n",
            "[0.05810188 0.94189817]\n",
            "[0.98418415 0.01581581]\n",
            "[0.03635558 0.96364444]\n",
            "[0.97287333 0.02712667]\n",
            "[0.98311955 0.01688049]\n",
            "[0.10870176 0.8912983 ]\n",
            "[0.9793154  0.02068463]\n",
            "[0.38223928 0.6177608 ]\n",
            "[0.98457956 0.01542039]\n",
            "[0.04483683 0.9551632 ]\n",
            "[0.07128097 0.928719  ]\n",
            "[0.72398597 0.276014  ]\n",
            "[0.0643781  0.93562186]\n",
            "[0.98402447 0.01597549]\n",
            "[0.09378054 0.9062195 ]\n",
            "[0.9511866  0.04881335]\n",
            "[0.0788616  0.92113835]\n",
            "[0.98401165 0.01598832]\n",
            "[0.98311955 0.01688049]\n",
            "[0.30129293 0.6987071 ]\n",
            "[0.98463523 0.0153647 ]\n",
            "[0.89768916 0.10231081]\n",
            "[0.12736848 0.8726315 ]\n",
            "[0.9808357  0.01916427]\n",
            "[0.98435485 0.01564514]\n",
            "[0.98251134 0.01748869]\n",
            "[0.98389566 0.01610436]\n",
            "[0.07498331 0.92501664]\n",
            "[0.03103038 0.9689696 ]\n",
            "[0.04723551 0.95276445]\n",
            "[0.8174209  0.18257909]\n",
            "[0.9818216  0.01817843]\n",
            "[0.05518332 0.9448167 ]\n",
            "[0.04975584 0.9502441 ]\n",
            "[0.97767717 0.02232284]\n",
            "[0.04038347 0.95961654]\n",
            "[0.98446757 0.01553236]\n",
            "[0.98251134 0.01748869]\n",
            "[0.9839537  0.01604624]\n",
            "[0.97287333 0.02712667]\n",
            "[0.20056139 0.79943866]\n",
            "[0.84239405 0.15760593]\n",
            "[0.06774804 0.93225193]\n",
            "[0.98463523 0.0153647 ]\n",
            "[0.38223928 0.6177608 ]\n",
            "[0.09378054 0.9062195 ]\n",
            "[0.9845238  0.01547628]\n",
            "[0.05240325 0.9475968 ]\n",
            "[0.09378054 0.9062195 ]\n",
            "[0.91091657 0.08908345]\n",
            "[0.78947943 0.21052061]\n",
            "[0.0788616  0.92113835]\n",
            "[0.9838373  0.01616267]\n",
            "[0.14882034 0.85117966]\n",
            "[0.97767717 0.02232284]\n",
            "[0.04723551 0.95276445]\n",
            "[0.10870176 0.8912983 ]\n",
            "[0.38223928 0.6177608 ]\n",
            "[0.04255451 0.9574455 ]\n",
            "[0.08292253 0.91707754]\n",
            "[0.937911   0.06208906]\n",
            "[0.9449243  0.05507571]\n",
            "[0.17316842 0.8268316 ]\n",
            "[0.98463523 0.0153647 ]\n",
            "[0.14882034 0.85117966]\n",
            "[0.98412687 0.01587312]\n",
            "[0.98251134 0.01748869]\n",
            "[0.20056139 0.79943866]\n",
            "[0.05810188 0.94189817]\n",
            "[0.09378054 0.9062195 ]\n",
            "[0.9567695  0.04323048]\n",
            "[0.08718084 0.91281915]\n",
            "[0.9842981  0.01570183]\n",
            "[0.0344894 0.9655106]\n",
            "[0.9844589  0.01554106]\n",
            "[0.975863   0.02413701]\n",
            "[0.06774804 0.93225193]\n",
            "[0.06116477 0.9388352 ]\n",
            "[0.98251134 0.01748869]\n",
            "[0.02790825 0.9720917 ]\n",
            "[0.98418415 0.01581581]\n",
            "[0.89768916 0.10231081]\n",
            "[0.98389566 0.01610436]\n",
            "[0.9511866  0.04881335]\n",
            "[0.78947943 0.21052061]\n",
            "[0.9842981  0.01570183]\n",
            "[0.04723551 0.95276445]\n",
            "[0.8174209  0.18257909]\n",
            "[0.04723551 0.95276445]\n",
            "[0.0344894 0.9655106]\n",
            "[0.98435485 0.01564514]\n",
            "[0.937911   0.06208906]\n",
            "[0.98251134 0.01748869]\n",
            "[0.04255451 0.9574455 ]\n",
            "[0.9835781  0.01642187]\n",
            "[0.9838373  0.01616267]\n",
            "[0.08718084 0.91281915]\n",
            "[0.08718084 0.91281915]\n",
            "[0.9818216  0.01817843]\n",
            "[0.9615881  0.03841185]\n",
            "[0.98311955 0.01688049]\n",
            "[0.60412425 0.39587578]\n",
            "[0.04255451 0.9574455 ]\n",
            "[0.9213234  0.07867665]\n",
            "[0.98418415 0.01581581]\n",
            "[0.9511866  0.04881335]\n",
            "[0.03103038 0.9689696 ]\n",
            "[0.07128097 0.928719  ]\n",
            "[0.9839537  0.01604624]\n",
            "[0.03271575 0.9672842 ]\n",
            "[0.06116477 0.9388352 ]\n",
            "[0.9839537  0.01604624]\n",
            "[0.02942919 0.97057086]\n",
            "[0.04255451 0.9574455 ]\n",
            "[0.08292253 0.91707754]\n",
            "[0.06116477 0.9388352 ]\n",
            "[0.68649274 0.31350726]\n",
            "[0.9842413  0.01575872]\n",
            "[0.02942919 0.97057086]\n",
            "[0.9846907  0.01530921]\n",
            "[0.98418415 0.01581581]\n",
            "[0.84239405 0.15760593]\n",
            "[0.9567695  0.04323048]\n",
            "[0.64639413 0.35360593]\n",
            "[0.9835781  0.01642187]\n",
            "[0.98389566 0.01610436]\n",
            "[0.9842413  0.01575872]\n",
            "[0.8174209  0.18257909]\n",
            "[0.9808357  0.01916427]\n",
            "[0.9615881  0.03841185]\n",
            "[0.06116477 0.9388352 ]\n",
            "[0.5602391  0.43976086]\n",
            "[0.38223928 0.6177608 ]\n",
            "[0.7585252  0.24147485]\n",
            "[0.9835781  0.01642187]\n",
            "[0.09378054 0.9062195 ]\n",
            "[0.04483683 0.9551632 ]\n",
            "[0.5602391  0.43976086]\n",
            "[0.51539177 0.48460823]\n",
            "[0.97767717 0.02232284]\n",
            "[0.10870176 0.8912983 ]\n",
            "[0.26469725 0.73530275]\n",
            "[0.9838373  0.01616267]\n",
            "[0.51539177 0.48460823]\n",
            "[0.23107655 0.76892346]\n",
            "[0.04723551 0.95276445]\n",
            "[0.9835781  0.01642187]\n",
            "[0.8824184  0.11758158]\n",
            "[0.03831873 0.96168125]\n",
            "[0.23107655 0.76892346]\n",
            "[0.9511866  0.04881335]\n",
            "[0.38223928 0.6177608 ]\n",
            "[0.9838373  0.01616267]\n",
            "[0.09378054 0.9062195 ]\n",
            "[0.38223928 0.6177608 ]\n",
            "[0.14882034 0.85117966]\n",
            "[0.12736848 0.8726315 ]\n",
            "[0.02942919 0.97057086]\n",
            "[0.9846907  0.01530921]\n",
            "[0.03271575 0.9672842 ]\n",
            "[0.91091657 0.08908345]\n",
            "[0.07128097 0.928719  ]\n",
            "[0.72398597 0.276014  ]\n",
            "[0.8824184  0.11758158]\n",
            "[0.12736848 0.8726315 ]\n",
            "[0.09378054 0.9062195 ]\n",
            "[0.03271575 0.9672842 ]\n",
            "[0.9657778  0.03422221]\n",
            "[0.04255451 0.9574455 ]\n",
            "[0.98435485 0.01564514]\n",
            "[0.98435485 0.01564514]\n",
            "[0.10870176 0.8912983 ]\n",
            "[0.4702948  0.52970517]\n",
            "[0.9845238  0.01547628]\n",
            "[0.9657778  0.03422221]\n",
            "[0.08292253 0.91707754]\n",
            "[0.98311955 0.01688049]\n",
            "[0.9511866  0.04881335]\n",
            "[0.89768916 0.10231081]\n",
            "[0.91091657 0.08908345]\n",
            "[0.98389566 0.01610436]\n",
            "[0.9846907  0.01530921]\n",
            "[0.98441136 0.01558866]\n",
            "[0.9657778  0.03422221]\n",
            "[0.975863   0.02413701]\n",
            "[0.04255451 0.9574455 ]\n",
            "[0.26469725 0.73530275]\n",
            "[0.03635558 0.96364444]\n",
            "[0.4702948  0.52970517]\n",
            "[0.02790825 0.9720917 ]\n",
            "[0.9846907  0.01530921]\n",
            "[0.05240325 0.9475968 ]\n",
            "[0.9818216  0.01817843]\n",
            "[0.04038347 0.95961654]\n",
            "[0.9845238  0.01547628]\n",
            "[0.03635558 0.96364444]\n",
            "[0.06116477 0.9388352 ]\n",
            "[0.9842981  0.01570183]\n",
            "[0.20056139 0.79943866]\n",
            "[0.02790825 0.9720917 ]\n",
            "[0.0344894 0.9655106]\n",
            "[0.02646376 0.9735362 ]\n",
            "[0.9615881  0.03841185]\n",
            "[0.30129293 0.6987071 ]\n",
            "[0.97287333 0.02712667]\n",
            "[0.8824184  0.11758158]\n",
            "[0.0344894 0.9655106]\n",
            "[0.26469725 0.73530275]\n",
            "[0.30129293 0.6987071 ]\n",
            "[0.05810188 0.94189817]\n",
            "[0.3406045 0.6593955]\n",
            "[0.4702948  0.52970517]\n",
            "[0.68649274 0.31350726]\n",
            "[0.91091657 0.08908345]\n",
            "[0.20056139 0.79943866]\n",
            "[0.10870176 0.8912983 ]\n",
            "[0.02942919 0.97057086]\n",
            "[0.03831873 0.96168125]\n",
            "[0.937911   0.06208906]\n",
            "[0.10870176 0.8912983 ]\n",
            "[0.14882034 0.85117966]\n",
            "[0.9615881  0.03841185]\n",
            "[0.17316842 0.8268316 ]\n",
            "[0.98463523 0.0153647 ]\n",
            "[0.0344894 0.9655106]\n",
            "[0.17316842 0.8268316 ]\n",
            "[0.02790825 0.9720917 ]\n",
            "[0.9842981  0.01570183]\n",
            "[0.98457956 0.01542039]\n",
            "[0.9808357  0.01916427]\n",
            "[0.05810188 0.94189817]\n",
            "[0.0788616  0.92113835]\n",
            "[0.06116477 0.9388352 ]\n"
          ],
          "name": "stdout"
        }
      ]
    },
    {
      "cell_type": "code",
      "metadata": {
        "id": "jQXIhMiiqAxe"
      },
      "source": [
        "rounded_predictions = np.argmax(predictions,axis=-1)"
      ],
      "execution_count": 22,
      "outputs": []
    },
    {
      "cell_type": "code",
      "metadata": {
        "id": "fkHFnsIWuliN"
      },
      "source": [
        "# for i in rounded_predictions:\n",
        "#   print(i)"
      ],
      "execution_count": 23,
      "outputs": []
    },
    {
      "cell_type": "markdown",
      "metadata": {
        "id": "cpnrXgyvu8QN"
      },
      "source": [
        "##Confusion Matrix"
      ]
    },
    {
      "cell_type": "code",
      "metadata": {
        "id": "JMXdXz96up02"
      },
      "source": [
        "%matplotlib inline\n",
        "from sklearn.metrics import confusion_matrix\n",
        "import itertools\n",
        "import matplotlib.pyplot as plt"
      ],
      "execution_count": 24,
      "outputs": []
    },
    {
      "cell_type": "code",
      "metadata": {
        "id": "8whHLAcw8TEP"
      },
      "source": [
        "cm = confusion_matrix(y_true=test_labels, y_pred= rounded_predictions)"
      ],
      "execution_count": 25,
      "outputs": []
    },
    {
      "cell_type": "code",
      "metadata": {
        "id": "Bum7_KVG8sXG"
      },
      "source": [
        "def plot_confusion_matrix(cm, classes,\n",
        "                          normalize=False,\n",
        "                          title='Confusion matrix',\n",
        "                          cmap=plt.cm.Blues):\n",
        "    \"\"\"\n",
        "    This function prints and plots the confusion matrix.\n",
        "    Normalization can be applied by setting `normalize=True`.\n",
        "    \"\"\"\n",
        "    plt.imshow(cm, interpolation='nearest', cmap=cmap)\n",
        "    plt.title(title)\n",
        "    plt.colorbar()\n",
        "    tick_marks = np.arange(len(classes))\n",
        "    plt.xticks(tick_marks, classes, rotation=45)\n",
        "    plt.yticks(tick_marks, classes)\n",
        "\n",
        "    if normalize:\n",
        "        cm = cm.astype('float') / cm.sum(axis=1)[:, np.newaxis]\n",
        "        print(\"Normalized confusion matrix\")\n",
        "    else:\n",
        "        print('Confusion matrix, without normalization')\n",
        "\n",
        "    print(cm)\n",
        "\n",
        "    thresh = cm.max() / 2.\n",
        "    for i, j in itertools.product(range(cm.shape[0]), range(cm.shape[1])):\n",
        "        plt.text(j, i, cm[i, j],\n",
        "                 horizontalalignment=\"center\",\n",
        "                 color=\"white\" if cm[i, j] > thresh else \"black\")\n",
        "\n",
        "    plt.tight_layout()\n",
        "    plt.ylabel('True label')\n",
        "    plt.xlabel('Predicted label')"
      ],
      "execution_count": 26,
      "outputs": []
    },
    {
      "cell_type": "code",
      "metadata": {
        "colab": {
          "base_uri": "https://localhost:8080/",
          "height": 362
        },
        "id": "DMZ54bgT9U3C",
        "outputId": "07ef937c-f11c-4c50-c850-709080ab1e6a"
      },
      "source": [
        "cm_plot_labels = ['no side effects', 'had_side_effects']\n",
        "plot_confusion_matrix(cm=cm, classes=cm_plot_labels, title='Confusion Matrix')"
      ],
      "execution_count": 27,
      "outputs": [
        {
          "output_type": "stream",
          "text": [
            "Confusion matrix, without normalization\n",
            "[[193  17]\n",
            " [ 10 200]]\n"
          ],
          "name": "stdout"
        },
        {
          "output_type": "display_data",
          "data": {
            "image/png": "[encoded data removed]",
            "text/plain": [
              "<Figure size 432x288 with 2 Axes>"
            ]
          },
          "metadata": {
            "tags": [],
            "needs_background": "light"
          }
        }
      ]
    },
    {
      "cell_type": "markdown",
      "metadata": {
        "id": "wFZj1fo49yVC"
      },
      "source": [
        "#Save and load the models"
      ]
    },
    {
      "cell_type": "markdown",
      "metadata": {
        "id": "rJF-yc-u-AOw"
      },
      "source": [
        "#save the model"
      ]
    },
    {
      "cell_type": "code",
      "metadata": {
        "colab": {
          "base_uri": "https://localhost:8080/"
        },
        "id": "mm0opF2e9tuG",
        "outputId": "2124096c-1b2b-45c3-d229-322c632b063e"
      },
      "source": [
        "#Check first to see if the file exist\n",
        "#if not then model is saved\n",
        "\n",
        "file_path = \"/content/sample_data/medical_trail_model.h5  \"\n",
        "\n",
        "import os.path\n",
        "if os.path.isfile(file_path) is False:\n",
        "  model.save(file_path)\n"
      ],
      "execution_count": 28,
      "outputs": [
        {
          "output_type": "stream",
          "text": [
            "WARNING:tensorflow:From /usr/local/lib/python3.6/dist-packages/tensorflow/python/training/tracking/tracking.py:111: Model.state_updates (from tensorflow.python.keras.engine.training) is deprecated and will be removed in a future version.\n",
            "Instructions for updating:\n",
            "This property should not be used in TensorFlow 2.0, as updates are applied automatically.\n",
            "WARNING:tensorflow:From /usr/local/lib/python3.6/dist-packages/tensorflow/python/training/tracking/tracking.py:111: Layer.updates (from tensorflow.python.keras.engine.base_layer) is deprecated and will be removed in a future version.\n",
            "Instructions for updating:\n",
            "This property should not be used in TensorFlow 2.0, as updates are applied automatically.\n",
            "INFO:tensorflow:Assets written to: /content/sample_data/medical_trail_model.h5  /assets\n"
          ],
          "name": "stdout"
        }
      ]
    },
    {
      "cell_type": "markdown",
      "metadata": {
        "id": "BFP8iSvS_Fpv"
      },
      "source": [
        "#Load The model"
      ]
    },
    {
      "cell_type": "code",
      "metadata": {
        "id": "XBtIRgcs_ANH"
      },
      "source": [
        "from tensorflow.keras.models import load_model\n",
        "new_model = load_model('/content/sample_data/medical_trail_model.h5  ')"
      ],
      "execution_count": 31,
      "outputs": []
    },
    {
      "cell_type": "code",
      "metadata": {
        "colab": {
          "base_uri": "https://localhost:8080/"
        },
        "id": "HO5p8aJ-_UiV",
        "outputId": "28b400ca-4791-43f3-e1e7-c8126365cc75"
      },
      "source": [
        "new_model.summary()"
      ],
      "execution_count": 33,
      "outputs": [
        {
          "output_type": "stream",
          "text": [
            "Model: \"sequential\"\n",
            "_________________________________________________________________\n",
            "Layer (type)                 Output Shape              Param #   \n",
            "=================================================================\n",
            "dense (Dense)                (None, 16)                32        \n",
            "_________________________________________________________________\n",
            "dense_1 (Dense)              (None, 32)                544       \n",
            "_________________________________________________________________\n",
            "dense_2 (Dense)              (None, 2)                 66        \n",
            "=================================================================\n",
            "Total params: 642\n",
            "Trainable params: 642\n",
            "Non-trainable params: 0\n",
            "_________________________________________________________________\n"
          ],
          "name": "stdout"
        }
      ]
    },
    {
      "cell_type": "code",
      "metadata": {
        "colab": {
          "base_uri": "https://localhost:8080/"
        },
        "id": "oUnUCW7K_f8M",
        "outputId": "83aa7f76-eab8-424a-8442-42c162386b2a"
      },
      "source": [
        "new_model.get_weights()"
      ],
      "execution_count": 35,
      "outputs": [
        {
          "output_type": "execute_result",
          "data": {
            "text/plain": [
              "[array([[-0.11193112,  0.7344255 , -0.4123595 , -0.05495026,  0.7388691 ,\n",
              "          0.43539155,  0.39400062,  0.66192627, -0.04827607, -0.08454752,\n",
              "         -0.11667526,  0.01982395,  0.3998475 ,  0.57288253, -0.15056208,\n",
              "          0.14684586]], dtype=float32),\n",
              " array([ 0.        , -0.1846756 ,  0.        ,  0.2028287 , -0.1323283 ,\n",
              "        -0.18057938,  0.22152701, -0.19203521,  0.        ,  0.        ,\n",
              "         0.        ,  0.16085903, -0.18000747, -0.12854037,  0.        ,\n",
              "         0.19799972], dtype=float32),\n",
              " array([[-2.99152434e-01, -9.71013606e-02, -3.42915684e-01,\n",
              "         -1.55903712e-01,  1.05615377e-01, -4.60681021e-02,\n",
              "         -2.19954282e-01,  1.64651185e-01, -1.39370099e-01,\n",
              "         -2.48950720e-01,  4.15666401e-02,  1.23196840e-02,\n",
              "          2.64264196e-01,  2.77401954e-01, -3.38521451e-01,\n",
              "          8.31257105e-02, -3.35901022e-01, -9.42692757e-02,\n",
              "         -2.50047803e-01, -2.32065350e-01, -6.82213902e-03,\n",
              "         -1.02096021e-01, -3.50197554e-01, -3.27753872e-01,\n",
              "          2.73115963e-01,  3.01531702e-01, -2.60482430e-01,\n",
              "          3.95115018e-02,  2.55287498e-01, -1.13861308e-01,\n",
              "         -6.88400567e-02,  7.63696730e-02],\n",
              "        [ 1.27126217e-01, -2.62943536e-01,  3.05387735e-01,\n",
              "         -4.59034681e-01,  3.34317703e-03, -2.77456015e-01,\n",
              "         -5.00026286e-01,  1.81873351e-01,  1.63272917e-01,\n",
              "         -4.51949596e-01,  3.88072133e-02,  2.62244403e-01,\n",
              "          4.40603554e-01,  2.21019879e-01, -4.35983352e-02,\n",
              "         -2.29368210e-01,  4.72043693e-01, -7.19634593e-02,\n",
              "          3.55881676e-02, -1.33963302e-01,  4.49135095e-01,\n",
              "         -3.97696912e-01,  1.68049365e-01,  2.96781749e-01,\n",
              "          3.92395779e-02, -1.12216055e-01, -2.60212392e-01,\n",
              "          2.08841354e-01,  3.97977233e-03, -3.46948624e-01,\n",
              "         -4.42743897e-01,  1.31451562e-01],\n",
              "        [-2.56098419e-01,  1.64596409e-01,  3.02331001e-01,\n",
              "         -1.78405941e-02, -2.10281670e-01,  4.08271551e-02,\n",
              "          1.16989464e-01, -2.51181126e-01, -1.19485885e-01,\n",
              "          2.98896134e-02,  6.32496774e-02, -2.41937399e-01,\n",
              "         -1.85537592e-01,  2.75489002e-01,  1.79155171e-02,\n",
              "         -3.44837159e-01, -3.42045516e-01,  1.25327617e-01,\n",
              "         -3.06763560e-01,  3.21318895e-01, -2.71682739e-02,\n",
              "         -1.93033412e-01,  3.34626406e-01,  3.29471856e-01,\n",
              "         -4.85476851e-02, -1.69347554e-01,  2.02941388e-01,\n",
              "         -2.05369115e-01, -3.45270425e-01,  2.66086608e-01,\n",
              "         -1.39105171e-01,  2.57686108e-01],\n",
              "        [ 8.24373122e-03,  3.92100036e-01,  8.69238004e-03,\n",
              "          3.18378657e-01,  2.77109683e-01,  4.21130508e-01,\n",
              "          1.26198888e-01,  1.22302048e-01, -3.44346374e-01,\n",
              "          3.80507261e-01,  1.31875753e-01, -3.22426200e-01,\n",
              "          8.84497687e-02, -1.01669401e-01, -1.40134171e-01,\n",
              "         -3.02270353e-01, -7.06163198e-02, -1.39470741e-01,\n",
              "          2.30326742e-01,  1.31038874e-01, -8.84328708e-02,\n",
              "          4.13681477e-01, -4.86277007e-02, -1.51666403e-02,\n",
              "         -3.58208060e-01,  2.96114147e-01,  2.69752681e-01,\n",
              "          1.90173954e-01, -5.80480993e-02,  4.54802722e-01,\n",
              "          3.18985522e-01,  1.28793448e-01],\n",
              "        [ 2.22022206e-01, -3.29427242e-01,  4.21051770e-01,\n",
              "         -8.71679634e-02, -1.14861252e-02, -2.53296405e-01,\n",
              "         -2.61918642e-02, -2.12870926e-01, -2.30759799e-01,\n",
              "         -3.69303882e-01, -9.82403979e-02,  1.87591419e-01,\n",
              "          4.97231871e-01, -1.36330267e-02,  1.15258887e-01,\n",
              "          2.49475211e-01,  1.05530187e-01,  1.97687238e-01,\n",
              "         -3.00009161e-01, -3.94680440e-01,  1.07701413e-01,\n",
              "         -1.82475168e-02,  3.60447198e-01,  8.63137841e-02,\n",
              "         -2.03570366e-01, -3.36338192e-01, -2.17634752e-01,\n",
              "         -1.88260108e-01, -2.42299363e-01, -1.02653868e-01,\n",
              "         -2.85394881e-02,  9.92341638e-02],\n",
              "        [-3.17471564e-01, -1.46833370e-02,  2.71500379e-01,\n",
              "         -4.27599698e-01, -4.30039465e-01, -3.63001853e-01,\n",
              "         -2.57229637e-02, -2.06458762e-01, -1.30908236e-01,\n",
              "         -5.18821143e-02, -1.76479165e-02, -3.20021510e-01,\n",
              "          4.26083207e-01,  1.09932303e-01,  3.81838270e-02,\n",
              "         -3.42302531e-01,  4.25774246e-01, -2.52676427e-01,\n",
              "         -5.03398776e-01,  5.57481125e-02,  4.65744257e-01,\n",
              "         -3.62942070e-01,  1.04888342e-01, -2.57660270e-01,\n",
              "          2.35863015e-01, -3.66442770e-01, -1.69511452e-01,\n",
              "          8.96123871e-02, -9.16042328e-02, -2.80513585e-01,\n",
              "         -3.98202986e-01,  1.68410122e-01],\n",
              "        [-3.04528266e-01,  2.34880358e-01,  4.62252289e-01,\n",
              "          2.21409947e-01,  3.98530662e-02, -1.46725938e-01,\n",
              "          2.79637933e-01,  2.25595787e-01, -3.29630136e-01,\n",
              "          1.35043189e-01, -9.66282785e-02,  2.75271028e-01,\n",
              "          2.84802049e-01, -3.21251273e-01,  3.66838664e-01,\n",
              "          1.09197438e-01,  4.54685897e-01, -2.53524065e-01,\n",
              "          1.19557783e-01,  2.58120388e-01,  2.59910762e-01,\n",
              "          4.76914458e-02, -8.76411039e-04, -5.69570065e-02,\n",
              "         -3.99451144e-02, -4.77474183e-02,  5.35981953e-02,\n",
              "         -1.75109968e-01,  7.50299096e-02,  1.71737850e-01,\n",
              "          3.06086928e-01, -3.68730754e-01],\n",
              "        [-8.34229887e-02, -1.26664177e-01,  5.34654200e-01,\n",
              "         -4.83583137e-02, -4.83849883e-01, -1.12353623e-01,\n",
              "         -9.01643932e-02, -9.84905362e-02,  2.92973518e-01,\n",
              "         -4.18383867e-01,  5.49770705e-02, -1.85382724e-01,\n",
              "          1.87770635e-01, -3.15840930e-01, -3.65646392e-01,\n",
              "          7.71702826e-02,  4.66897726e-01, -7.63297975e-02,\n",
              "         -3.59462321e-01, -3.17123473e-01,  1.47658393e-01,\n",
              "         -3.37147772e-01,  4.14820701e-01, -1.38319120e-01,\n",
              "          1.41942382e-01, -3.81398350e-01, -4.45985049e-01,\n",
              "         -3.32544923e-01, -3.32408637e-01, -1.04048111e-01,\n",
              "         -5.03096640e-01,  5.19023538e-02],\n",
              "        [-1.90309376e-01, -3.09876084e-01,  3.42303127e-01,\n",
              "          2.32276231e-01,  5.94129860e-02, -2.49199897e-01,\n",
              "         -9.47704017e-02, -2.79233158e-01, -3.55301201e-02,\n",
              "         -1.07421786e-01, -4.92764115e-02, -1.45999193e-02,\n",
              "          1.43404573e-01, -2.40076780e-01, -3.33617628e-02,\n",
              "          2.44634777e-01,  2.12890714e-01, -1.72522977e-01,\n",
              "         -8.81965756e-02,  2.27519840e-01, -2.90172040e-01,\n",
              "         -1.54741228e-01,  1.53324395e-01, -3.29093039e-01,\n",
              "          2.93818414e-02,  3.40399712e-01,  5.69477379e-02,\n",
              "         -1.71968922e-01, -1.54450327e-01, -3.33402544e-01,\n",
              "          2.63380378e-01, -1.17437974e-01],\n",
              "        [-3.50728631e-01, -1.28569216e-01, -1.21703148e-02,\n",
              "          1.94368452e-01,  1.38932526e-01,  2.47800559e-01,\n",
              "         -3.20737839e-01, -2.80482233e-01,  1.91223472e-01,\n",
              "         -2.94916660e-01, -2.58903533e-01, -1.02960289e-01,\n",
              "         -4.99709845e-02, -1.06861562e-01,  3.24270338e-01,\n",
              "         -2.47574627e-01, -1.65401682e-01,  1.25780016e-01,\n",
              "          3.44088525e-01, -2.96540320e-01, -2.59325325e-01,\n",
              "         -1.72551811e-01, -1.54431865e-01, -1.26910403e-01,\n",
              "         -2.06583709e-01,  1.42377794e-01,  1.21890545e-01,\n",
              "          3.43584388e-01, -2.51668185e-01, -2.41090924e-01,\n",
              "          5.43206334e-02,  7.66285360e-02],\n",
              "        [ 2.71532089e-01,  2.69687563e-01,  5.39304316e-02,\n",
              "          3.27921838e-01,  1.85650855e-01,  2.61511803e-02,\n",
              "         -3.45395356e-01,  6.17033243e-02, -2.80843735e-01,\n",
              "         -2.79678732e-01, -9.59307849e-02, -2.05087662e-03,\n",
              "         -3.03213537e-01,  3.36048275e-01, -1.37655482e-01,\n",
              "          1.46959573e-01, -1.94372162e-01,  1.88066632e-01,\n",
              "         -2.78624803e-01, -2.90513158e-01, -1.09979749e-01,\n",
              "          1.06649727e-01,  1.95263922e-02, -3.44067395e-01,\n",
              "          7.58680403e-02, -2.39438713e-02,  1.81925267e-01,\n",
              "         -1.51703358e-02, -2.88417280e-01, -9.47709680e-02,\n",
              "         -2.28642181e-01, -3.33145112e-01],\n",
              "        [-4.07360698e-04,  2.87012279e-01,  1.46948397e-01,\n",
              "         -2.12215409e-01, -1.61691040e-01,  3.80714566e-01,\n",
              "         -2.39344299e-01, -3.31414521e-01,  2.41543680e-01,\n",
              "          2.28425801e-01,  1.09968722e-01, -2.39436656e-01,\n",
              "         -3.58910151e-02, -1.23176090e-01, -2.70708986e-02,\n",
              "         -3.18121552e-01,  5.23631014e-02, -1.85849309e-01,\n",
              "          3.03929716e-01, -2.01091453e-01, -3.48602772e-01,\n",
              "          1.35811031e-01,  7.96449408e-02,  3.37569386e-01,\n",
              "          1.14526324e-01,  3.38833869e-01,  2.55794138e-01,\n",
              "         -2.32485756e-01, -3.03311825e-01, -1.44348383e-01,\n",
              "          1.13072485e-01, -1.51830137e-01],\n",
              "        [-2.02383939e-03, -6.07327282e-01,  2.99870744e-02,\n",
              "         -3.57469320e-01, -3.40663671e-01, -3.81965518e-01,\n",
              "         -3.88200819e-01, -4.39143032e-02,  3.57366458e-04,\n",
              "         -1.29880235e-01, -1.50548697e-01,  2.93230593e-01,\n",
              "          9.33759585e-02,  3.06136459e-01, -1.78290784e-01,\n",
              "          1.37453437e-01,  2.28135824e-01, -3.00422132e-01,\n",
              "         -1.07994020e-01, -5.53024232e-01,  2.31276393e-01,\n",
              "         -2.01895043e-01,  4.70704973e-01, -1.37514621e-01,\n",
              "         -5.86409867e-02, -2.34304368e-01, -7.66084641e-02,\n",
              "         -3.58903229e-01,  1.31932199e-01, -5.80028407e-02,\n",
              "         -2.95258671e-01,  1.93480358e-01],\n",
              "        [ 1.38752922e-01, -1.93795130e-01,  1.18481144e-01,\n",
              "         -6.66492060e-02,  3.80644128e-02, -3.15959305e-01,\n",
              "         -4.81491476e-01,  6.76208292e-04,  1.70231745e-01,\n",
              "          8.27658325e-02, -2.12027550e-01, -3.33975583e-01,\n",
              "          3.33726108e-02, -9.35206711e-02, -2.17554152e-01,\n",
              "         -2.85288900e-01, -9.71397236e-02, -2.77100861e-01,\n",
              "          1.74462736e-01,  2.35972572e-02,  1.47637174e-01,\n",
              "         -3.01666051e-01,  5.47163188e-01, -1.81294322e-01,\n",
              "          2.58223146e-01, -9.04432219e-03, -2.71182597e-01,\n",
              "         -3.31991315e-01,  2.75022179e-01, -3.95820856e-01,\n",
              "         -1.75108612e-01, -2.60269850e-01],\n",
              "        [-2.71243542e-01,  1.28174543e-01, -2.52321959e-01,\n",
              "         -1.42552182e-01, -1.57025844e-01,  6.19087517e-02,\n",
              "         -1.68631554e-01, -3.96299362e-03, -2.49993950e-01,\n",
              "          2.96700150e-01, -1.62987933e-01,  2.99742311e-01,\n",
              "          2.64654368e-01, -1.65193647e-01,  2.03975230e-01,\n",
              "         -2.56749928e-01, -1.60805985e-01, -1.75960228e-01,\n",
              "          1.92657799e-01,  9.47375894e-02,  3.40335697e-01,\n",
              "          2.67370343e-02,  3.01290780e-01,  1.63932592e-01,\n",
              "          2.22597718e-02, -3.51004004e-02, -5.47352433e-03,\n",
              "         -1.54227957e-01,  5.73455095e-02,  3.26799244e-01,\n",
              "         -2.56118476e-01, -3.42163861e-01],\n",
              "        [-2.89313287e-01, -3.20587307e-02,  3.98375578e-02,\n",
              "          2.26821318e-01,  2.79888716e-02,  4.50214058e-01,\n",
              "          2.78656155e-01, -1.64772138e-01, -5.64314239e-02,\n",
              "          1.79461226e-01, -2.48526447e-02, -1.18103176e-01,\n",
              "          2.73355603e-01,  3.34809273e-01, -1.84876382e-01,\n",
              "         -1.56060845e-01,  4.19140548e-01, -1.24139190e-02,\n",
              "         -1.54238090e-01,  2.94146359e-01, -2.97545761e-01,\n",
              "          3.92157793e-01, -9.42407697e-02, -2.41769239e-01,\n",
              "         -5.98766096e-03,  3.31153870e-01,  3.13236833e-01,\n",
              "          2.65625775e-01, -7.46007562e-02,  1.68033227e-01,\n",
              "          2.50870794e-01,  1.23179201e-02]], dtype=float32),\n",
              " array([-0.0012197 ,  0.15929326, -0.0542393 ,  0.12818162,  0.18070047,\n",
              "         0.21413241,  0.02146163, -0.00854777, -0.01081865,  0.19347864,\n",
              "        -0.02009125, -0.01555941, -0.05422815, -0.0034278 ,  0.04316064,\n",
              "         0.        , -0.05933209,  0.        ,  0.1301558 ,  0.132373  ,\n",
              "        -0.06028852,  0.16646075, -0.08792469,  0.        , -0.01401416,\n",
              "         0.17366387,  0.20018971, -0.02168101,  0.        ,  0.1576634 ,\n",
              "         0.14884008, -0.00556593], dtype=float32),\n",
              " array([[ 0.36665186, -0.2893567 ],\n",
              "        [ 0.79035175, -0.21716464],\n",
              "        [-0.61244035,  0.46567956],\n",
              "        [ 0.7260544 , -0.42480212],\n",
              "        [ 0.8479601 , -0.43453404],\n",
              "        [ 0.67105395, -0.35160333],\n",
              "        [-0.10317758,  0.28336692],\n",
              "        [-0.02606718,  0.21572119],\n",
              "        [ 0.35561374, -0.2528992 ],\n",
              "        [ 0.20728141, -0.726748  ],\n",
              "        [-0.03330537,  0.21604572],\n",
              "        [ 0.302386  ,  0.09703184],\n",
              "        [-0.62598866,  0.45888835],\n",
              "        [ 0.03908084, -0.19800933],\n",
              "        [ 0.2125591 , -0.35656318],\n",
              "        [ 0.3045791 ,  0.2967833 ],\n",
              "        [-0.4995537 ,  0.23173502],\n",
              "        [ 0.11528906, -0.00294337],\n",
              "        [ 0.55410075, -0.5048683 ],\n",
              "        [ 0.8090336 , -0.51873624],\n",
              "        [-0.15807584,  0.24469897],\n",
              "        [ 0.8055521 , -0.4584645 ],\n",
              "        [-0.38937262,  0.27452484],\n",
              "        [ 0.275395  , -0.14820048],\n",
              "        [-0.13592394, -0.237769  ],\n",
              "        [ 0.6231147 , -0.4921697 ],\n",
              "        [ 0.70822626, -0.33857912],\n",
              "        [ 0.07014525,  0.34592864],\n",
              "        [ 0.05814639,  0.40278122],\n",
              "        [ 0.5503562 , -0.8287085 ],\n",
              "        [ 0.4307564 , -0.7255044 ],\n",
              "        [ 0.02867001, -0.2563792 ]], dtype=float32),\n",
              " array([ 0.04880103, -0.04880103], dtype=float32)]"
            ]
          },
          "metadata": {
            "tags": []
          },
          "execution_count": 35
        }
      ]
    },
    {
      "cell_type": "code",
      "metadata": {
        "colab": {
          "base_uri": "https://localhost:8080/"
        },
        "id": "lgIIsC78_lZb",
        "outputId": "6ed85830-cd75-4e96-d7b2-6d4617161121"
      },
      "source": [
        "new_model.optimizer"
      ],
      "execution_count": 36,
      "outputs": [
        {
          "output_type": "execute_result",
          "data": {
            "text/plain": [
              "<tensorflow.python.keras.optimizer_v2.adam.Adam at 0x7f250d89b668>"
            ]
          },
          "metadata": {
            "tags": []
          },
          "execution_count": 36
        }
      ]
    },
    {
      "cell_type": "markdown",
      "metadata": {
        "id": "dI3qSLFo_30x"
      },
      "source": [
        "#Second Method to save the model\n",
        "\n",
        "####If we olny want to save the architecture of the model and not the weights or training configuration then we can save the model in json format"
      ]
    },
    {
      "cell_type": "code",
      "metadata": {
        "id": "7IhsasY2_oyZ"
      },
      "source": [
        "#save as json\n",
        "json_string = model.to_json()\n",
        "\n",
        "#save as YAML\n",
        "#yaml_string = model.to_yaml"
      ],
      "execution_count": 37,
      "outputs": []
    },
    {
      "cell_type": "code",
      "metadata": {
        "colab": {
          "base_uri": "https://localhost:8080/",
          "height": 171
        },
        "id": "7Zjz8truAnzv",
        "outputId": "ce5f41d0-99ea-41c7-86c4-7493c044752c"
      },
      "source": [
        "json_string"
      ],
      "execution_count": 38,
      "outputs": [
        {
          "output_type": "execute_result",
          "data": {
            "application/vnd.google.colaboratory.intrinsic+json": {
              "type": "string"
            },
            "text/plain": [
              "'{\"class_name\": \"Sequential\", \"config\": {\"name\": \"sequential\", \"layers\": [{\"class_name\": \"InputLayer\", \"config\": {\"batch_input_shape\": [null, 1], \"dtype\": \"float32\", \"sparse\": false, \"ragged\": false, \"name\": \"dense_input\"}}, {\"class_name\": \"Dense\", \"config\": {\"name\": \"dense\", \"trainable\": true, \"batch_input_shape\": [null, 1], \"dtype\": \"float32\", \"units\": 16, \"activation\": \"relu\", \"use_bias\": true, \"kernel_initializer\": {\"class_name\": \"GlorotUniform\", \"config\": {\"seed\": null}}, \"bias_initializer\": {\"class_name\": \"Zeros\", \"config\": {}}, \"kernel_regularizer\": null, \"bias_regularizer\": null, \"activity_regularizer\": null, \"kernel_constraint\": null, \"bias_constraint\": null}}, {\"class_name\": \"Dense\", \"config\": {\"name\": \"dense_1\", \"trainable\": true, \"dtype\": \"float32\", \"units\": 32, \"activation\": \"relu\", \"use_bias\": true, \"kernel_initializer\": {\"class_name\": \"GlorotUniform\", \"config\": {\"seed\": null}}, \"bias_initializer\": {\"class_name\": \"Zeros\", \"config\": {}}, \"kernel_regularizer\": null, \"bias_regularizer\": null, \"activity_regularizer\": null, \"kernel_constraint\": null, \"bias_constraint\": null}}, {\"class_name\": \"Dense\", \"config\": {\"name\": \"dense_2\", \"trainable\": true, \"dtype\": \"float32\", \"units\": 2, \"activation\": \"softmax\", \"use_bias\": true, \"kernel_initializer\": {\"class_name\": \"GlorotUniform\", \"config\": {\"seed\": null}}, \"bias_initializer\": {\"class_name\": \"Zeros\", \"config\": {}}, \"kernel_regularizer\": null, \"bias_regularizer\": null, \"activity_regularizer\": null, \"kernel_constraint\": null, \"bias_constraint\": null}}]}, \"keras_version\": \"2.4.0\", \"backend\": \"tensorflow\"}'"
            ]
          },
          "metadata": {
            "tags": []
          },
          "execution_count": 38
        }
      ]
    },
    {
      "cell_type": "code",
      "metadata": {
        "id": "RNx0Pwl7Aqoc"
      },
      "source": [
        "#model reconstruction from json\n",
        "\n",
        "from tensorflow.keras.models import model_from_json\n",
        "model_architecture = model_from_json(json_string)\n",
        "\n",
        "# #model reconstruction from yaml\n",
        "\n",
        "# from tensorflow.keras.models import model_from_yaml\n",
        "# model_architecture = model_from_yaml(yaml_string)"
      ],
      "execution_count": 39,
      "outputs": []
    },
    {
      "cell_type": "code",
      "metadata": {
        "colab": {
          "base_uri": "https://localhost:8080/"
        },
        "id": "ks_I7aBsBJPv",
        "outputId": "2ddc24fb-fcef-4052-82eb-742702c7275c"
      },
      "source": [
        "model_architecture.summary()"
      ],
      "execution_count": 40,
      "outputs": [
        {
          "output_type": "stream",
          "text": [
            "Model: \"sequential\"\n",
            "_________________________________________________________________\n",
            "Layer (type)                 Output Shape              Param #   \n",
            "=================================================================\n",
            "dense (Dense)                (None, 16)                32        \n",
            "_________________________________________________________________\n",
            "dense_1 (Dense)              (None, 32)                544       \n",
            "_________________________________________________________________\n",
            "dense_2 (Dense)              (None, 2)                 66        \n",
            "=================================================================\n",
            "Total params: 642\n",
            "Trainable params: 642\n",
            "Non-trainable params: 0\n",
            "_________________________________________________________________\n"
          ],
          "name": "stdout"
        }
      ]
    },
    {
      "cell_type": "markdown",
      "metadata": {
        "id": "qdEcrpboBSwO"
      },
      "source": [
        "#If we only want to save the weights "
      ]
    },
    {
      "cell_type": "code",
      "metadata": {
        "colab": {
          "base_uri": "https://localhost:8080/"
        },
        "id": "bLma_1KHBMTm",
        "outputId": "a025c03f-164b-48e7-86cf-77fb47d1597f"
      },
      "source": [
        "#Check first to see if the file exist\n",
        "#if not then model is saved\n",
        "\n",
        "file_path = \"/content/sample_data/my_model_weights.h5  \"\n",
        "\n",
        "import os.path\n",
        "if os.path.isfile(file_path) is False:\n",
        "  model.save(file_path)"
      ],
      "execution_count": 41,
      "outputs": [
        {
          "output_type": "stream",
          "text": [
            "INFO:tensorflow:Assets written to: /content/sample_data/my_model_weights.h5  /assets\n"
          ],
          "name": "stdout"
        }
      ]
    },
    {
      "cell_type": "code",
      "metadata": {
        "id": "wdxZV9XPBq-b"
      },
      "source": [
        "model2 = Sequential([\n",
        "                    Dense(units=16, input_shape=(1, ), activation= 'relu'),\n",
        "                    Dense(units=32, activation='relu'),\n",
        "                    Dense(units=2, activation='softmax')\n",
        "])"
      ],
      "execution_count": 42,
      "outputs": []
    },
    {
      "cell_type": "code",
      "metadata": {
        "colab": {
          "base_uri": "https://localhost:8080/",
          "height": 460
        },
        "id": "sInrlTFhB5_v",
        "outputId": "522096eb-70e7-4bce-d2f5-f4ca5ff602f9"
      },
      "source": [
        "model2.load_weights('/content/sample_data/my_model_weights.h5  ')"
      ],
      "execution_count": 46,
      "outputs": [
        {
          "output_type": "error",
          "ename": "OSError",
          "evalue": "ignored",
          "traceback": [
            "\u001b[0;31m---------------------------------------------------------------------------\u001b[0m",
            "\u001b[0;31mOSError\u001b[0m                                   Traceback (most recent call last)",
            "\u001b[0;32m<ipython-input-46-644c0b677352>\u001b[0m in \u001b[0;36m<module>\u001b[0;34m()\u001b[0m\n\u001b[0;32m----> 1\u001b[0;31m \u001b[0mmodel2\u001b[0m\u001b[0;34m.\u001b[0m\u001b[0mload_weights\u001b[0m\u001b[0;34m(\u001b[0m\u001b[0;34m'/content/sample_data/my_model_weights.h5  '\u001b[0m\u001b[0;34m)\u001b[0m\u001b[0;34m\u001b[0m\u001b[0;34m\u001b[0m\u001b[0m\n\u001b[0m",
            "\u001b[0;32m/usr/local/lib/python3.6/dist-packages/tensorflow/python/keras/engine/training.py\u001b[0m in \u001b[0;36mload_weights\u001b[0;34m(self, filepath, by_name, skip_mismatch, options)\u001b[0m\n\u001b[1;32m   2202\u001b[0m           'first, then load the weights.')\n\u001b[1;32m   2203\u001b[0m     \u001b[0mself\u001b[0m\u001b[0;34m.\u001b[0m\u001b[0m_assert_weights_created\u001b[0m\u001b[0;34m(\u001b[0m\u001b[0;34m)\u001b[0m\u001b[0;34m\u001b[0m\u001b[0;34m\u001b[0m\u001b[0m\n\u001b[0;32m-> 2204\u001b[0;31m     \u001b[0;32mwith\u001b[0m \u001b[0mh5py\u001b[0m\u001b[0;34m.\u001b[0m\u001b[0mFile\u001b[0m\u001b[0;34m(\u001b[0m\u001b[0mfilepath\u001b[0m\u001b[0;34m,\u001b[0m \u001b[0;34m'r'\u001b[0m\u001b[0;34m)\u001b[0m \u001b[0;32mas\u001b[0m \u001b[0mf\u001b[0m\u001b[0;34m:\u001b[0m\u001b[0;34m\u001b[0m\u001b[0;34m\u001b[0m\u001b[0m\n\u001b[0m\u001b[1;32m   2205\u001b[0m       \u001b[0;32mif\u001b[0m \u001b[0;34m'layer_names'\u001b[0m \u001b[0;32mnot\u001b[0m \u001b[0;32min\u001b[0m \u001b[0mf\u001b[0m\u001b[0;34m.\u001b[0m\u001b[0mattrs\u001b[0m \u001b[0;32mand\u001b[0m \u001b[0;34m'model_weights'\u001b[0m \u001b[0;32min\u001b[0m \u001b[0mf\u001b[0m\u001b[0;34m:\u001b[0m\u001b[0;34m\u001b[0m\u001b[0;34m\u001b[0m\u001b[0m\n\u001b[1;32m   2206\u001b[0m         \u001b[0mf\u001b[0m \u001b[0;34m=\u001b[0m \u001b[0mf\u001b[0m\u001b[0;34m[\u001b[0m\u001b[0;34m'model_weights'\u001b[0m\u001b[0;34m]\u001b[0m\u001b[0;34m\u001b[0m\u001b[0;34m\u001b[0m\u001b[0m\n",
            "\u001b[0;32m/usr/local/lib/python3.6/dist-packages/h5py/_hl/files.py\u001b[0m in \u001b[0;36m__init__\u001b[0;34m(self, name, mode, driver, libver, userblock_size, swmr, rdcc_nslots, rdcc_nbytes, rdcc_w0, track_order, **kwds)\u001b[0m\n\u001b[1;32m    406\u001b[0m                 fid = make_fid(name, mode, userblock_size,\n\u001b[1;32m    407\u001b[0m                                \u001b[0mfapl\u001b[0m\u001b[0;34m,\u001b[0m \u001b[0mfcpl\u001b[0m\u001b[0;34m=\u001b[0m\u001b[0mmake_fcpl\u001b[0m\u001b[0;34m(\u001b[0m\u001b[0mtrack_order\u001b[0m\u001b[0;34m=\u001b[0m\u001b[0mtrack_order\u001b[0m\u001b[0;34m)\u001b[0m\u001b[0;34m,\u001b[0m\u001b[0;34m\u001b[0m\u001b[0;34m\u001b[0m\u001b[0m\n\u001b[0;32m--> 408\u001b[0;31m                                swmr=swmr)\n\u001b[0m\u001b[1;32m    409\u001b[0m \u001b[0;34m\u001b[0m\u001b[0m\n\u001b[1;32m    410\u001b[0m             \u001b[0;32mif\u001b[0m \u001b[0misinstance\u001b[0m\u001b[0;34m(\u001b[0m\u001b[0mlibver\u001b[0m\u001b[0;34m,\u001b[0m \u001b[0mtuple\u001b[0m\u001b[0;34m)\u001b[0m\u001b[0;34m:\u001b[0m\u001b[0;34m\u001b[0m\u001b[0;34m\u001b[0m\u001b[0m\n",
            "\u001b[0;32m/usr/local/lib/python3.6/dist-packages/h5py/_hl/files.py\u001b[0m in \u001b[0;36mmake_fid\u001b[0;34m(name, mode, userblock_size, fapl, fcpl, swmr)\u001b[0m\n\u001b[1;32m    171\u001b[0m         \u001b[0;32mif\u001b[0m \u001b[0mswmr\u001b[0m \u001b[0;32mand\u001b[0m \u001b[0mswmr_support\u001b[0m\u001b[0;34m:\u001b[0m\u001b[0;34m\u001b[0m\u001b[0;34m\u001b[0m\u001b[0m\n\u001b[1;32m    172\u001b[0m             \u001b[0mflags\u001b[0m \u001b[0;34m|=\u001b[0m \u001b[0mh5f\u001b[0m\u001b[0;34m.\u001b[0m\u001b[0mACC_SWMR_READ\u001b[0m\u001b[0;34m\u001b[0m\u001b[0;34m\u001b[0m\u001b[0m\n\u001b[0;32m--> 173\u001b[0;31m         \u001b[0mfid\u001b[0m \u001b[0;34m=\u001b[0m \u001b[0mh5f\u001b[0m\u001b[0;34m.\u001b[0m\u001b[0mopen\u001b[0m\u001b[0;34m(\u001b[0m\u001b[0mname\u001b[0m\u001b[0;34m,\u001b[0m \u001b[0mflags\u001b[0m\u001b[0;34m,\u001b[0m \u001b[0mfapl\u001b[0m\u001b[0;34m=\u001b[0m\u001b[0mfapl\u001b[0m\u001b[0;34m)\u001b[0m\u001b[0;34m\u001b[0m\u001b[0;34m\u001b[0m\u001b[0m\n\u001b[0m\u001b[1;32m    174\u001b[0m     \u001b[0;32melif\u001b[0m \u001b[0mmode\u001b[0m \u001b[0;34m==\u001b[0m \u001b[0;34m'r+'\u001b[0m\u001b[0;34m:\u001b[0m\u001b[0;34m\u001b[0m\u001b[0;34m\u001b[0m\u001b[0m\n\u001b[1;32m    175\u001b[0m         \u001b[0mfid\u001b[0m \u001b[0;34m=\u001b[0m \u001b[0mh5f\u001b[0m\u001b[0;34m.\u001b[0m\u001b[0mopen\u001b[0m\u001b[0;34m(\u001b[0m\u001b[0mname\u001b[0m\u001b[0;34m,\u001b[0m \u001b[0mh5f\u001b[0m\u001b[0;34m.\u001b[0m\u001b[0mACC_RDWR\u001b[0m\u001b[0;34m,\u001b[0m \u001b[0mfapl\u001b[0m\u001b[0;34m=\u001b[0m\u001b[0mfapl\u001b[0m\u001b[0;34m)\u001b[0m\u001b[0;34m\u001b[0m\u001b[0;34m\u001b[0m\u001b[0m\n",
            "\u001b[0;32mh5py/_objects.pyx\u001b[0m in \u001b[0;36mh5py._objects.with_phil.wrapper\u001b[0;34m()\u001b[0m\n",
            "\u001b[0;32mh5py/_objects.pyx\u001b[0m in \u001b[0;36mh5py._objects.with_phil.wrapper\u001b[0;34m()\u001b[0m\n",
            "\u001b[0;32mh5py/h5f.pyx\u001b[0m in \u001b[0;36mh5py.h5f.open\u001b[0;34m()\u001b[0m\n",
            "\u001b[0;31mOSError\u001b[0m: Unable to open file (file read failed: time = Tue Dec 15 10:54:33 2020\n, filename = '/content/sample_data/my_model_weights.h5  ', file descriptor = 78, errno = 21, error message = 'Is a directory', buf = 0x7ffca96d9fb0, total read size = 8, bytes this sub-read = 8, bytes actually read = 18446744073709551615, offset = 0)"
          ]
        }
      ]
    },
    {
      "cell_type": "code",
      "metadata": {
        "colab": {
          "base_uri": "https://localhost:8080/"
        },
        "id": "LHEfxlX5CDtF",
        "outputId": "00930b60-2192-4029-853a-4a060b76adb5"
      },
      "source": [
        "model2.get_weights()"
      ],
      "execution_count": 47,
      "outputs": [
        {
          "output_type": "execute_result",
          "data": {
            "text/plain": [
              "[array([[ 0.03200978, -0.5738315 , -0.33123618,  0.1561085 , -0.06967413,\n",
              "          0.5293063 , -0.00708324,  0.1424607 , -0.57178396, -0.20634937,\n",
              "          0.24257678,  0.14399779, -0.33904374, -0.5240039 ,  0.25370443,\n",
              "         -0.18536755]], dtype=float32),\n",
              " array([0., 0., 0., 0., 0., 0., 0., 0., 0., 0., 0., 0., 0., 0., 0., 0.],\n",
              "       dtype=float32),\n",
              " array([[-0.14405876,  0.20012316, -0.24626741,  0.30537227, -0.06743267,\n",
              "          0.15087095,  0.30181012, -0.12338726,  0.22257403,  0.26403692,\n",
              "         -0.05411276,  0.20227113,  0.27409336,  0.12474227,  0.30068347,\n",
              "         -0.10465871, -0.21120813,  0.29273596, -0.28447765,  0.2303358 ,\n",
              "          0.14278129,  0.2793788 ,  0.2127665 , -0.2815842 , -0.3290332 ,\n",
              "         -0.3014774 , -0.11346084, -0.0188989 ,  0.046067  ,  0.29505333,\n",
              "          0.15307584,  0.26678362],\n",
              "        [ 0.35323045, -0.07128263, -0.02514321, -0.33726853,  0.06517082,\n",
              "          0.26723072,  0.10936299, -0.35306618,  0.26466343, -0.08579883,\n",
              "         -0.18930332, -0.11090757, -0.00868317, -0.3491289 ,  0.30506393,\n",
              "         -0.3303111 ,  0.16737416, -0.3259601 , -0.08399412,  0.3357806 ,\n",
              "          0.17888084, -0.22863722,  0.18358633, -0.1098588 ,  0.03815266,\n",
              "         -0.28917778,  0.20147952,  0.07935956,  0.28211442, -0.07726064,\n",
              "          0.21007952, -0.33555382],\n",
              "        [-0.31494468,  0.06748781, -0.2541058 ,  0.2867085 ,  0.01943341,\n",
              "         -0.06456661,  0.21685997, -0.2994365 ,  0.16491929, -0.03240249,\n",
              "         -0.03668445, -0.25733718, -0.04170498,  0.02529866,  0.13584283,\n",
              "         -0.08103913,  0.10282001, -0.0194501 ,  0.15495828,  0.2879074 ,\n",
              "         -0.2721567 , -0.05367342,  0.25744548,  0.05122647,  0.23318478,\n",
              "         -0.0679774 ,  0.28115132, -0.06237447,  0.16008213, -0.18340749,\n",
              "          0.2933595 , -0.10879087],\n",
              "        [ 0.06250638, -0.2090997 , -0.16235226,  0.28015777, -0.24758129,\n",
              "         -0.31977952,  0.19697264, -0.17720187, -0.14631826, -0.13388216,\n",
              "          0.02738929,  0.12090153,  0.09654897,  0.13900208, -0.336015  ,\n",
              "          0.18786576, -0.25072232, -0.15620406, -0.06154341, -0.00130975,\n",
              "          0.11078551, -0.34381264, -0.02058521,  0.28484383, -0.16630514,\n",
              "         -0.08176127, -0.27908108,  0.3038604 ,  0.31426993,  0.07918322,\n",
              "         -0.28453505, -0.04882056],\n",
              "        [ 0.21251342,  0.0902015 , -0.2624733 ,  0.23178539,  0.29994944,\n",
              "         -0.19117136, -0.2115405 ,  0.03804874,  0.10574779, -0.12191431,\n",
              "          0.15612152, -0.25358325, -0.18434079, -0.17851095,  0.19368973,\n",
              "          0.02300233, -0.15111482,  0.10701776,  0.30498794,  0.04094541,\n",
              "         -0.22338335,  0.2077559 , -0.1379737 ,  0.04005298,  0.1677657 ,\n",
              "         -0.3041878 , -0.34394273, -0.2532686 ,  0.19527873,  0.20933023,\n",
              "          0.11302403, -0.11208768],\n",
              "        [-0.17565213,  0.02634817,  0.12028137, -0.11026686,  0.34821936,\n",
              "         -0.14630385, -0.21354029,  0.1821064 , -0.26468626,  0.23687819,\n",
              "         -0.20473514, -0.19763905,  0.35118333,  0.24291375,  0.00605658,\n",
              "         -0.00224119, -0.2441104 ,  0.12555006, -0.07945481,  0.00549731,\n",
              "          0.18128368, -0.22762838, -0.33715177,  0.23183116, -0.01987958,\n",
              "          0.17421398, -0.2035804 ,  0.20974329, -0.29256132, -0.03887743,\n",
              "         -0.3084454 ,  0.16764465],\n",
              "        [-0.19847178, -0.22955576,  0.10163704,  0.08892116, -0.00209892,\n",
              "         -0.18051066, -0.14823586,  0.11487275, -0.3234693 , -0.14464259,\n",
              "         -0.28065062, -0.05920148, -0.15072362,  0.27443406,  0.0219118 ,\n",
              "          0.2651761 , -0.06561294, -0.22711444, -0.2536742 ,  0.3409362 ,\n",
              "         -0.01491156,  0.08327147,  0.04532245,  0.1885269 , -0.07289305,\n",
              "         -0.32478446,  0.03388742,  0.03997916,  0.2979156 , -0.11526759,\n",
              "         -0.2322079 ,  0.07750374],\n",
              "        [ 0.11219096,  0.2336708 ,  0.18715975, -0.1494899 ,  0.22758481,\n",
              "          0.30383238, -0.09724963,  0.30583498,  0.02474728,  0.29645547,\n",
              "         -0.11276507, -0.3056631 ,  0.13517094,  0.2710785 , -0.15377766,\n",
              "          0.07529914,  0.1881642 ,  0.2786081 , -0.16104445,  0.2952889 ,\n",
              "         -0.34123284,  0.03143987,  0.32863852,  0.31025675, -0.35002047,\n",
              "         -0.29874536, -0.34570926, -0.18023442, -0.15577517, -0.1683641 ,\n",
              "         -0.25209513, -0.13769342],\n",
              "        [-0.1726119 ,  0.34691224,  0.21962413, -0.15049367,  0.18711749,\n",
              "         -0.31331107,  0.16537723,  0.03420958, -0.02423874,  0.1168662 ,\n",
              "         -0.04618183, -0.11588091,  0.31616667,  0.03752249, -0.16583587,\n",
              "          0.1925256 ,  0.09069404, -0.3345122 ,  0.12811005,  0.05956969,\n",
              "          0.13016927, -0.0771884 , -0.0841181 , -0.21376595,  0.09211642,\n",
              "          0.2724454 ,  0.00958395,  0.301841  , -0.16479982,  0.3269299 ,\n",
              "          0.04545823,  0.327166  ],\n",
              "        [ 0.33875492,  0.06020483, -0.09033975, -0.0631724 , -0.25175047,\n",
              "         -0.25790197, -0.09168169, -0.08280009, -0.04412758,  0.08448318,\n",
              "          0.05133444, -0.29828328, -0.02572501, -0.1843788 , -0.16604105,\n",
              "         -0.13125718, -0.11491431,  0.2733461 , -0.22637384,  0.01180044,\n",
              "         -0.27727434,  0.07822195, -0.06446412, -0.17348199,  0.13070613,\n",
              "         -0.03533322,  0.18695483, -0.12900458, -0.3299693 , -0.18662515,\n",
              "         -0.29329056,  0.05217838],\n",
              "        [ 0.10591233,  0.10125899,  0.15117785,  0.3060914 ,  0.13774982,\n",
              "         -0.15449795, -0.13145265, -0.23408781, -0.27816305,  0.15206972,\n",
              "          0.02112409,  0.30606094,  0.08797514,  0.02786478, -0.24339357,\n",
              "         -0.35052472,  0.13238308,  0.11391526, -0.30813593,  0.3432081 ,\n",
              "         -0.17430478,  0.24692908, -0.31684634, -0.26601827, -0.24720922,\n",
              "         -0.26984257, -0.21136147,  0.22500786,  0.22529522, -0.03167209,\n",
              "         -0.3015918 , -0.21068679],\n",
              "        [ 0.19683412,  0.02590412, -0.0347918 ,  0.2981362 ,  0.20387223,\n",
              "          0.3444437 , -0.18129972, -0.33675465, -0.07648718,  0.15886876,\n",
              "          0.19527122, -0.29238245, -0.17352018, -0.20447838, -0.01447347,\n",
              "         -0.19727886, -0.04555762,  0.31338593,  0.10723296, -0.23895863,\n",
              "          0.21004465, -0.26340094, -0.28289968,  0.19664118,  0.1790559 ,\n",
              "          0.23075578, -0.16154769,  0.2510284 , -0.21371132,  0.09570774,\n",
              "         -0.14424886, -0.03184363],\n",
              "        [ 0.23398373,  0.15726784,  0.30711606, -0.35254094, -0.02483064,\n",
              "          0.00935137,  0.3137394 , -0.02612153,  0.27364585, -0.20297441,\n",
              "         -0.32467258, -0.1003347 , -0.06242284,  0.1306709 , -0.200787  ,\n",
              "         -0.20213856,  0.32307085,  0.31151697, -0.10177723, -0.29558283,\n",
              "          0.31909034,  0.32269606,  0.00324741, -0.2438508 ,  0.3118367 ,\n",
              "         -0.16763656, -0.22664256,  0.06825817,  0.04846147,  0.23388138,\n",
              "          0.04337594, -0.23158073],\n",
              "        [-0.03369269,  0.05506426, -0.24263325, -0.04340577, -0.2890531 ,\n",
              "         -0.30180264, -0.3459919 ,  0.2814751 ,  0.28998044, -0.12474962,\n",
              "         -0.15367962, -0.20584428,  0.02117652,  0.13121545,  0.16231933,\n",
              "          0.11388937,  0.09454691,  0.3494418 , -0.21736622, -0.04907361,\n",
              "         -0.04293355,  0.16610864, -0.31713042, -0.33438382, -0.00682855,\n",
              "          0.17010912, -0.33321407, -0.08264154, -0.23919448, -0.26515839,\n",
              "         -0.11776707,  0.2178562 ],\n",
              "        [ 0.27327505,  0.01466271, -0.12769061, -0.01359531, -0.16388835,\n",
              "         -0.05353525,  0.24217662, -0.15121657, -0.0452278 , -0.22628424,\n",
              "          0.06755212, -0.17973228,  0.22798488,  0.25905958,  0.2540606 ,\n",
              "          0.23871699,  0.3526185 , -0.34623745,  0.1573818 , -0.14188702,\n",
              "          0.32134727,  0.07867739,  0.12496567,  0.2934893 , -0.21973975,\n",
              "         -0.20088899,  0.04680341,  0.14949813, -0.2685812 ,  0.22976717,\n",
              "          0.06902996, -0.33641294],\n",
              "        [-0.24275379, -0.12395969, -0.21220146, -0.12836556,  0.00433463,\n",
              "         -0.02742395,  0.07892689, -0.11445111,  0.25063017,  0.30465147,\n",
              "          0.1287485 , -0.03063688,  0.25613847,  0.1622425 , -0.16250232,\n",
              "          0.33111033,  0.08235705, -0.12544504,  0.34850135,  0.2599437 ,\n",
              "         -0.25632727, -0.18339619, -0.26544303, -0.13774508, -0.04200903,\n",
              "         -0.19590892, -0.13452287, -0.19686733, -0.35080895, -0.24104938,\n",
              "          0.22929654, -0.34530154]], dtype=float32),\n",
              " array([0., 0., 0., 0., 0., 0., 0., 0., 0., 0., 0., 0., 0., 0., 0., 0., 0.,\n",
              "        0., 0., 0., 0., 0., 0., 0., 0., 0., 0., 0., 0., 0., 0., 0.],\n",
              "       dtype=float32),\n",
              " array([[ 1.26615793e-01, -1.80277303e-01],\n",
              "        [-3.27914923e-01,  4.06742990e-02],\n",
              "        [-2.90400445e-01,  2.68251091e-01],\n",
              "        [ 3.02020043e-01, -8.86639655e-02],\n",
              "        [-3.80161017e-01,  3.09212208e-02],\n",
              "        [-1.31726950e-01, -3.80284488e-01],\n",
              "        [ 4.75793183e-02, -1.46028012e-01],\n",
              "        [ 3.67379338e-01, -5.58862686e-02],\n",
              "        [ 3.00901800e-01,  8.68909061e-02],\n",
              "        [-1.94246233e-01, -2.45447397e-01],\n",
              "        [-4.04887795e-01,  1.82210237e-01],\n",
              "        [ 2.91563481e-01, -3.06374490e-01],\n",
              "        [ 4.07186538e-01, -3.45981717e-01],\n",
              "        [-3.06633890e-01,  3.56154472e-01],\n",
              "        [-3.96320552e-01, -1.05898678e-01],\n",
              "        [-1.83906242e-01,  3.91775161e-01],\n",
              "        [-2.73015916e-01, -3.42734188e-01],\n",
              "        [-2.02743351e-01,  1.37145609e-01],\n",
              "        [ 2.17713743e-01, -2.66524017e-01],\n",
              "        [-3.18021238e-01,  1.93478435e-01],\n",
              "        [ 1.76395684e-01,  1.66399390e-01],\n",
              "        [ 8.67097080e-02, -2.69711018e-04],\n",
              "        [ 2.08435357e-02, -1.73638970e-01],\n",
              "        [ 3.75809520e-01, -8.84002447e-02],\n",
              "        [ 1.35319680e-01, -2.47653633e-01],\n",
              "        [-3.78109425e-01, -1.68848306e-01],\n",
              "        [-1.07335418e-01, -3.53597462e-01],\n",
              "        [-3.83801967e-01, -3.31318408e-01],\n",
              "        [-2.10183933e-01, -2.21872330e-02],\n",
              "        [-2.88865864e-01, -3.88303488e-01],\n",
              "        [-8.66623521e-02,  2.82709002e-02],\n",
              "        [-1.69835389e-02, -1.38605535e-02]], dtype=float32),\n",
              " array([0., 0.], dtype=float32)]"
            ]
          },
          "metadata": {
            "tags": []
          },
          "execution_count": 47
        }
      ]
    },
    {
      "cell_type": "code",
      "metadata": {
        "id": "YXM0NUeQCaAA"
      },
      "source": [
        ""
      ],
      "execution_count": null,
      "outputs": []
    }
  ]
}